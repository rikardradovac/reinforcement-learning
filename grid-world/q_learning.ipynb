{
 "cells": [
  {
   "attachments": {},
   "cell_type": "markdown",
   "metadata": {},
   "source": [
    "## Introduction\n",
    "\n",
    "In this project we will look at reinforcement learning (RL), which is a machine learning method that deals with  problems where we are trying to find an optimal way of maneuvering in an environment that can give rewards or penalties depending on our actions.\n"
   ]
  },
  {
   "attachments": {},
   "cell_type": "markdown",
   "metadata": {},
   "source": [
    "#### Q-Learning Theory and Implementation\n",
    "\n",
    "In this reinforcement learning setup, we implement one-step Q-learning to find optimal policies in an environment. The agent interacts with the environment through actions, which transition the system between states and generate rewards.\n",
    "\n",
    "The core objective is to maximize the cumulative discounted reward (return) $R_t=\\sum_{t'=t}^\\infty\\gamma^{t'-t}r_{t'}$, where $\\gamma$ is the discount factor weighing future versus immediate rewards.\n",
    "\n",
    "The key component is the action-value function $Q(s,a)$, which represents the expected return when taking action $a$ in state $s$ and following the optimal policy thereafter. This can be expressed recursively as $Q(s,a)=r+\\gamma\\max_{a'}Q(s',a')$. The optimal policy simply selects actions that maximize $Q$ in each state.\n",
    "\n",
    "To learn the Q-function through experience, we use an $\\epsilon$-greedy exploration strategy:\n",
    "\n",
    "1. In state $s$, choose the action $a$ that maximizes $Q(s,a)$ with probability $(1-\\epsilon)$, or take a random action with probability $\\epsilon$\n",
    "\n",
    "2. Execute action $a$, observe the new state $s'$ and reward $r$\n",
    "\n",
    "3. Update the Q-value estimate using:\n",
    "   $Q(s,a)\\leftarrow(1-\\alpha)Q(s,a)+\\alpha(r+\\gamma\\max_{a'}Q(s',a'))$\n",
    "   where $\\alpha$ is the learning rate\n",
    "\n",
    "4. Continue from the new state $s'$, repeating until reaching a terminal state\n",
    "\n",
    "The $\\epsilon$ parameter balances exploitation of current knowledge versus exploration of new possibilities. With sufficient exploration and updates, this process converges to the optimal Q-function and corresponding optimal policy."
   ]
  },
  {
   "attachments": {},
   "cell_type": "markdown",
   "metadata": {},
   "source": [
    "<b> I will construct an RL agent using one-step Q-learning to find the optimal path from start to finish in a \"grid world\". </b> The grid world is a rectangular board where the agent can move in the cardinal directions. The board is surrounded by sheer cliffs giving death and a large negative reward. There are also a \"fire\" on the board, which is not fatal but gives a large negative reward. In addition, to make things more intersting, there is a treacherous \"wind\" that can make you go in a completely unintended direction. Every step also gives a negative reward; you want to get to goal in as few steps as possible. Reaching goal gives the only positive reward available on the board. \n",
    "\n",
    "The grid will consist of squares of \"fire\" and a \"goal\". The edge of the grid will be considered a \"cliff\". The game ends if you end up at the goal, which will yield a reward of 100. The game also ends if you fall over the cliff resulting in a -100 reward. You can walk through fire, but it yields a negative reward of -50 for each step. Every other step yields a -1 reward, meaning that we want to find the shortest path to the goal.\n"
   ]
  },
  {
   "cell_type": "code",
   "execution_count": 3,
   "metadata": {},
   "outputs": [],
   "source": [
    "# Setup grid \n",
    "\n",
    "import numpy as np\n",
    "import matplotlib.pyplot as plt \n",
    "\n",
    "startpos=np.array([0,29])\n",
    "goalpos=np.array([10,0])\n",
    "size_grid_x=30\n",
    "size_grid_y=40\n",
    "\n",
    "# Setup Q matrix (size,size,4) matrix for the 4 actions up,down,left,right=0,1,2,3\n",
    "Q=np.zeros((size_grid_x,size_grid_y,4))  \n",
    "\n",
    "# the reward associated with each obstacle\n",
    "reward_list = {'fire': -50 , 'cliff': -100, 'goal': 100 , 'start' : -1 , '-' : -1 }\n",
    "# the status of the game: 1 meaning the game has ended, the agent has hit a terminal state\n",
    "status_list = {'fire': -1 , 'cliff': 1, 'goal': 1 , 'start' : -1 , '-' : -1 }"
   ]
  },
  {
   "attachments": {},
   "cell_type": "markdown",
   "metadata": {},
   "source": [
    "Next we define a function that constructs the grid"
   ]
  },
  {
   "cell_type": "code",
   "execution_count": 73,
   "metadata": {},
   "outputs": [],
   "source": [
    "# Make grid\n",
    "def make_grid():\n",
    "\n",
    "    # Add padding, add an extra row, accessible trough index -1\n",
    "    grid = [['-' for y in range(size_grid_y+1)] for x in range(size_grid_x+1)]\n",
    "    \n",
    "    for x in range(size_grid_x+1):\n",
    "        for y in range(size_grid_y+1):\n",
    "            #goal\n",
    "            if x==goalpos[0]  and y==goalpos[1] :\n",
    "                # store object\n",
    "                grid[x][y] = 'goal'\n",
    "\n",
    "            #cliff\n",
    "            if x==size_grid_x  or y==size_grid_y :\n",
    "                grid[x][y] = 'cliff'\n",
    "                \n",
    "            #fires\n",
    "            elif (3<= x <=10) and (3<= y <= 10):\n",
    "                grid[x][y] = 'fire'\n",
    "    \n",
    "            elif x==startpos[0]  and y==startpos[1] :\n",
    "                grid[x][y] = 'start'\n",
    "\n",
    "    return grid\n"
   ]
  },
  {
   "attachments": {},
   "cell_type": "markdown",
   "metadata": {},
   "source": [
    "Define a helper that plots the world"
   ]
  },
  {
   "cell_type": "code",
   "execution_count": 24,
   "metadata": {},
   "outputs": [],
   "source": [
    "# Plot grid, pass None if you do not want to print a path \n",
    "def dispGrid(grid,path):\n",
    "    grid_RGB = np.ones((size_grid_x,size_grid_y,3))*0.7 # \n",
    "    \n",
    "    if path is not None :\n",
    "        for i,location in enumerate(path):\n",
    "            grid_RGB[location[0],location[1],:] = np.array([0,0,0]) # black'P' #player\n",
    "    \n",
    "    for x in range(size_grid_x):\n",
    "        for y in range(size_grid_y):\n",
    "            \n",
    "            if grid[x][y]=='goal':\n",
    "                grid_RGB[x,y,:] = np.array([245/255,237/255,48/255]) # Yellow\n",
    "                \n",
    "            if grid[x][y]=='fire':\n",
    "                grid_RGB[x,y,:] = np.array([203/255,32/255,40/255]) # Red '-' #pit    \n",
    "   \n",
    "            if grid[x][y]=='start':\n",
    "                grid_RGB[x,y,:] = np.array([0/255,254/255,0/255]) # Green '-' #pit    \n",
    "   \n",
    "   \n",
    "    \n",
    "    return grid_RGB"
   ]
  },
  {
   "cell_type": "code",
   "execution_count": 25,
   "metadata": {
    "scrolled": true
   },
   "outputs": [
    {
     "data": {
      "image/png": "[encoded data removed]",
      "text/plain": [
       "<Figure size 600x600 with 1 Axes>"
      ]
     },
     "metadata": {},
     "output_type": "display_data"
    }
   ],
   "source": [
    "# make the grid\n",
    "grid = make_grid()\n",
    "# convert it to colors\n",
    "plot_grid =dispGrid(grid,None)\n",
    "\n",
    "fig=plt.figure(figsize=(10, 10), dpi= 60, facecolor='w', edgecolor='k')\n",
    "# We have to invert the x and y axis , go over to numpy array instead\n",
    "plt.imshow(np.swapaxes(np.array(plot_grid),0,1))\n",
    "#plt.axis('on')\n",
    "plt.gca().invert_yaxis()\n",
    "plt.xticks(np.arange(0, size_grid_x, dtype=int))\n",
    "plt.yticks(np.arange(0, size_grid_y, dtype=int))\n",
    "plt.show()"
   ]
  },
  {
   "attachments": {},
   "cell_type": "markdown",
   "metadata": {},
   "source": [
    "Here are the parameters for the Q-learning and for the environment (e.g wind)"
   ]
  },
  {
   "cell_type": "code",
   "execution_count": 128,
   "metadata": {},
   "outputs": [],
   "source": [
    "# Define parameters to find find suitable values may take some thought and experimentation, \n",
    "# with the goal that the agent learns the best way to get from start to finish\n",
    "alpha= 0.18 #learning rate <1, if big it will train quickly, but also forget old experiences \n",
    "gamma= 0.9 #discounting rate <=1, how many steps ahead does it need to see?\n",
    "epsilon= 0.85 #for the epsilon-greedy policy, the agent starts with no knowledge so it needs to explore to learn \n",
    "            #might be useful to decrease this as the agent learns more\n",
    "\n",
    "wind=0.1 # chance that action results in random move instead of intended action\n",
    "\n"
   ]
  },
  {
   "attachments": {},
   "cell_type": "markdown",
   "metadata": {},
   "source": [
    "\n",
    "$\\alpha$ is set to 0.25, which results in slightly slower training by relying more on previous experiences compared to newly acquired experience. This value was determined through multiple runs, where a value of 0.25 yielded better paths compared to, for example, 0.6. However, there are trade-offs associated with both choices. A higher value of $\\alpha$ relies more on new experiences, while a lower value stores more experiences but learns at a slower pace, thus requiring more time for training.\n",
    "\n",
    "The selection of $\\gamma$ as 0.9 allows the agent to consider both immediate and long-term rewards. With $\\gamma$ set to 0.9, the agent assigns higher importance to long-term future rewards, opening up the possibility of discovering better paths in the long run as the grid is quite large.\n",
    "\n",
    "The parameter $\\epsilon$ represents the agent's level of greediness, determining the probability of exploring new options versus utilizing existing knowledge (q-values) to find paths. It is initialized as $\\epsilon=0.85$ and gradually decreased by a factor of (1/number_of_games) in each iteration. As the game progresses, the agent increasingly relies on its existing knowledge and exploits the environment more, reducing its exploratory behavior."
   ]
  },
  {
   "attachments": {},
   "cell_type": "markdown",
   "metadata": {},
   "source": [
    "\n",
    "- The function <code>action_fcn(q_in,epsilon,wind)</code> is designed to handle the agent's decision-making process. It takes as input \n",
    "<code>q_in , epsilon, wind</code> and produces <code> move, action</code> as output.\n",
    "\n",
    "- The variable <code>q_in</code> represents the action values for the four different actions 0,1,2,3 (corresponding to up,down,left,right) in a state defined by the position of the agent. For instance, if <code> position </code> is the current state, then <code> q_in=Q(position[0],position[1],:)</code>.\n",
    "\n",
    "- The output <code>action</code> is the action selected based on the epsilon greedy procedure, i.e. 0,1,2 or 3. This action is then mapped to a <code>move</code> that specifies how to update <code> position </code>. However, we also consider the effect of wind, which means that the actual move taken by the player should have a probability <code>wind</code> to be just a random move in any direction. Let <code>move</code> be the actual move performed when wind is taken into account. In other words, the agent will think it takes <code>action</code>, but it may actually take <code>move</code>, resulting in a different subsequent state and reward, than the agent intended.\n"
   ]
  },
  {
   "cell_type": "code",
   "execution_count": 83,
   "metadata": {},
   "outputs": [],
   "source": [
    "def action_fcn(q_in,epsilon,wind):\n",
    "\n",
    "    # all possible moves\n",
    "    moves = [(0, 1), (0, -1), (-1, 0), (1, 0)]\n",
    "    \n",
    "    # probability if we should exploit or eplore the environment\n",
    "    if np.random.rand() < 1 - epsilon:\n",
    "        action = np.argmax(q_in) # max valued action\n",
    "    else:\n",
    "        action = np.random.randint(0,4) # random direction\n",
    "\n",
    "    if action == 0:\n",
    "        move = moves[0] # move up\n",
    "    elif action == 1:\n",
    "        move = moves[1] # move down\n",
    "    elif action == 2:\n",
    "        move = moves[2] # move left\n",
    "    elif action == 3:\n",
    "        move = moves[3] # move right\n",
    "\n",
    "    # if there is wind, a random move is taken\n",
    "    if np.random.rand() < wind:\n",
    "        move = moves[np.random.randint(0,4)]\n",
    "\n",
    "    return move, action\n",
    "\n",
    "\n"
   ]
  },
  {
   "attachments": {},
   "cell_type": "markdown",
   "metadata": {},
   "source": [
    "**How do epsilon and wind differ?**\n",
    "\n",
    "Epsilon and wind differ in their effects on the agent's decision-making process. Epsilon represents a greedy-probability factor that guides the agent in choosing between exploiting or exploring the current environment. It is fully aware of the anticipated outcomes associated with each decision. On the contrary, wind introduces an element of unpredictability to the outcome, which is unknown to the agent. Although the agent may perceive its actions as exploitation or exploration, the presence of wind introduces randomness into the program and therefore may make the agent believe it took moves which it did not."
   ]
  },
  {
   "attachments": {},
   "cell_type": "markdown",
   "metadata": {},
   "source": [
    "The next step is to implement the actual learning learning algorithm, which consists of playing the game many times and learn the Q-function. To train the agent loop through a big number of games. Run each game until you go outside the grid, the 'cliff', or if you reach the goal. \n",
    "\n",
    "This training can be done in several steps, possible using different training parameters, epsilon, gamma, and alpha. "
   ]
  },
  {
   "cell_type": "code",
   "execution_count": 130,
   "metadata": {},
   "outputs": [
    {
     "name": "stdout",
     "output_type": "stream",
     "text": [
      "game nr: 0, Q_max:0.0,  Q_min:-18.0\n",
      "game nr: 1000, Q_max:0.0,  Q_min:-99.7969365399078\n",
      "game nr: 2000, Q_max:18.0,  Q_min:-99.94692055287842\n",
      "game nr: 3000, Q_max:69.59933285760002,  Q_min:-99.99850866320376\n",
      "game nr: 4000, Q_max:90.75799437297003,  Q_min:-99.99827159804578\n",
      "game nr: 5000, Q_max:99.54130095860727,  Q_min:-99.99993452856657\n",
      "game nr: 6000, Q_max:92.12247990822951,  Q_min:-99.99850866320376\n",
      "game nr: 7000, Q_max:99.99999421009106,  Q_min:-99.97628059694887\n",
      "game nr: 8000, Q_max:99.9355745416421,  Q_min:-99.99538372274897\n",
      "game nr: 9000, Q_max:99.74946673552338,  Q_min:-99.99960067776244\n",
      "game nr: 10000, Q_max:99.94394606869582,  Q_min:-99.99726381445376\n",
      "game nr: 11000, Q_max:99.95600182554641,  Q_min:-99.9997471215779\n",
      "game nr: 12000, Q_max:99.32088402033918,  Q_min:-99.99902931443502\n",
      "game nr: 13000, Q_max:99.90270130395608,  Q_min:-99.99871376980825\n",
      "game nr: 14000, Q_max:97.4633357497273,  Q_min:-99.99929081383165\n",
      "game nr: 15000, Q_max:94.76703653021694,  Q_min:-99.99941846734195\n",
      "game nr: 16000, Q_max:99.76746205421443,  Q_min:-99.99960897744074\n",
      "game nr: 17000, Q_max:98.86549632870103,  Q_min:-99.99967936150142\n",
      "game nr: 18000, Q_max:99.99001791112332,  Q_min:-99.99967936150142\n",
      "game nr: 19000, Q_max:99.99579569014199,  Q_min:-99.99967936150142\n"
     ]
    }
   ],
   "source": [
    "# loop over games\n",
    "nr_of_games=20000\n",
    "\n",
    "for game in range(nr_of_games):\n",
    "    # Initilize the player at the start position and store the current position in position\n",
    "    position=startpos\n",
    "    status = -1\n",
    "    \n",
    "    while status == -1:\n",
    "\n",
    "        # the current action value\n",
    "        q_in = Q[position[0]][position[1]] \n",
    "\n",
    "        # generate a move and an action \n",
    "        move, action = action_fcn(q_in,epsilon,wind)  \n",
    "        \n",
    "        # save the prev positions for reward calculations, and also moving to new position\n",
    "        prev_pos = position  \n",
    "        position = position + move \n",
    "        \n",
    "        # update the grid and status with the new position\n",
    "        updated_grid = grid[position[0]][position[1]] \n",
    "        status = status_list[updated_grid]\n",
    "        \n",
    "        # new reward with new status\n",
    "        reward = reward_list[updated_grid] \n",
    "         \n",
    "        if status == 1:\n",
    "            # the new q_value is just the reward as the game terminates\n",
    "\n",
    "            q_reward = alpha * reward + (1 - alpha) * Q[prev_pos[0], prev_pos[1], action]\n",
    "                                                                           \n",
    "            Q[prev_pos[0], prev_pos[1], action] = q_reward\n",
    "        else:\n",
    "            # the q_value estimate using the formula\n",
    "            q_estimate = alpha * (reward + gamma * np.max(Q[position[0], position[1], :]))\n",
    "            q_prev = Q[prev_pos[0],prev_pos[1], action]\n",
    "            \n",
    "            Q[prev_pos[0],prev_pos[1],action] =  q_prev * (1 - alpha)  +  q_estimate\n",
    "                                            \n",
    "    \n",
    "    # reduce epsilon for more exploitation after many runs\n",
    "    epsilon -= 1 / nr_of_games\n",
    "    \n",
    "    if game % 1000 == 0:\n",
    "        print(f'game nr: {game}, Q_max:{np.max(Q)},  Q_min:{np.min(Q)}')"
   ]
  },
  {
   "attachments": {},
   "cell_type": "markdown",
   "metadata": {},
   "source": [
    "\n",
    "The value function V(s) represents the highest Q-value for each state-action pair in Q(s, a), regardless of the specific action taken (as there are four different actions)."
   ]
  },
  {
   "cell_type": "code",
   "execution_count": 131,
   "metadata": {},
   "outputs": [
    {
     "name": "stderr",
     "output_type": "stream",
     "text": [
      "/var/folders/ym/s4qttynd2r50zpqn0tx9c7w00000gn/T/ipykernel_97283/2083018983.py:12: DeprecationWarning: `np.int` is a deprecated alias for the builtin `int`. To silence this warning, use `int` by itself. Doing this will not modify any behavior and is safe. When replacing `np.int`, you may wish to use e.g. `np.int64` or `np.int32` to specify the precision. If you wish to review your current use, check the release note link for additional information.\n",
      "Deprecated in NumPy 1.20; for more details and guidance: https://numpy.org/devdocs/release/1.20.0-notes.html#deprecations\n",
      "  plt.xticks(np.arange(0, size_grid_x, dtype=np.int))\n",
      "/var/folders/ym/s4qttynd2r50zpqn0tx9c7w00000gn/T/ipykernel_97283/2083018983.py:13: DeprecationWarning: `np.int` is a deprecated alias for the builtin `int`. To silence this warning, use `int` by itself. Doing this will not modify any behavior and is safe. When replacing `np.int`, you may wish to use e.g. `np.int64` or `np.int32` to specify the precision. If you wish to review your current use, check the release note link for additional information.\n",
      "Deprecated in NumPy 1.20; for more details and guidance: https://numpy.org/devdocs/release/1.20.0-notes.html#deprecations\n",
      "  plt.yticks(np.arange(0, size_grid_y, dtype=np.int))\n"
     ]
    },
    {
     "data": {
      "text/plain": [
       "<Figure size 640x480 with 0 Axes>"
      ]
     },
     "metadata": {},
     "output_type": "display_data"
    },
    {
     "data": {
      "image/png": "[encoded data removed]",
      "text/plain": [
       "<Figure size 800x800 with 2 Axes>"
      ]
     },
     "metadata": {},
     "output_type": "display_data"
    }
   ],
   "source": [
    "#Value function\n",
    "z=Q.max(axis=2)\n",
    "#z=z.T\n",
    "#z=np.flip(z,axis=0)\n",
    "#z=np.flip(z,axis=1)\n",
    "plt.figure()\n",
    "fig=plt.figure(figsize=(10, 10), dpi= 80, facecolor='w', edgecolor='k')\n",
    "plt.imshow(np.swapaxes(z,0,1))\n",
    "plt.colorbar()\n",
    "#plt.grid(False)\n",
    "plt.gca().invert_yaxis()\n",
    "plt.xticks(np.arange(0, size_grid_x, dtype=np.int))\n",
    "plt.yticks(np.arange(0, size_grid_y, dtype=np.int))\n",
    "plt.show()"
   ]
  },
  {
   "attachments": {},
   "cell_type": "markdown",
   "metadata": {},
   "source": [
    "\n",
    "The best path can be determined by analyzing the state values V(s) plot. The best path is characterized by following the brightest squares, which represent the highest rewards, and avoiding the dark squares, which indicate termination and the lowest reward. This strategy ensures that the path leads to the treasure by following the highest rewards and avoids termination by steering clear of the lowest rewards."
   ]
  },
  {
   "cell_type": "code",
   "execution_count": 132,
   "metadata": {},
   "outputs": [
    {
     "name": "stdout",
     "output_type": "stream",
     "text": [
      "[[ 0 29]\n",
      " [ 1 29]\n",
      " [ 2 29]\n",
      " [ 2 28]\n",
      " [ 3 28]\n",
      " [ 3 27]\n",
      " [ 3 26]\n",
      " [ 4 26]\n",
      " [ 5 26]\n",
      " [ 5 25]\n",
      " [ 5 24]\n",
      " [ 5 23]\n",
      " [ 6 23]\n",
      " [ 7 23]\n",
      " [ 8 23]\n",
      " [ 9 23]\n",
      " [ 9 22]\n",
      " [10 22]\n",
      " [10 21]\n",
      " [10 20]\n",
      " [11 20]\n",
      " [11 19]\n",
      " [12 19]\n",
      " [12 18]\n",
      " [12 17]\n",
      " [12 16]\n",
      " [12 15]\n",
      " [12 14]\n",
      " [12 13]\n",
      " [12 12]\n",
      " [12 11]\n",
      " [12 10]\n",
      " [12  9]\n",
      " [12  8]\n",
      " [12  7]\n",
      " [12  6]\n",
      " [12  5]\n",
      " [12  4]\n",
      " [12  3]\n",
      " [12  2]\n",
      " [11  2]\n",
      " [11  1]\n",
      " [10  1]\n",
      " [10  0]] 43\n"
     ]
    }
   ],
   "source": [
    "#a path\n",
    "location=startpos\n",
    "path=np.array([startpos])\n",
    "reaction=0\n",
    "step_count=0;\n",
    "while reaction !=1:\n",
    "    q_state=Q[location[0],location[1],:]\n",
    "    step_count+=1\n",
    "    move, action = action_fcn(q_state,0.0,0.0)  #take optimal move\n",
    "    location_new=location+move\n",
    "\n",
    "    obstacle = grid[location_new[0]][location_new[1]]       \n",
    "    reaction = status_list[obstacle]\n",
    "    \n",
    "    location=location_new\n",
    "    \n",
    "    path=np.append(path,[location],axis=0)\n",
    "    if step_count>100:\n",
    "        break\n",
    "print(path,step_count)\n",
    "\n"
   ]
  },
  {
   "cell_type": "code",
   "execution_count": 133,
   "metadata": {},
   "outputs": [
    {
     "data": {
      "image/png": "[encoded data removed]",
      "text/plain": [
       "<Figure size 800x800 with 1 Axes>"
      ]
     },
     "metadata": {},
     "output_type": "display_data"
    }
   ],
   "source": [
    "#plot above path\n",
    "grid = make_grid()\n",
    "plot_grid = dispGrid(grid,path)\n",
    "\n",
    "fig=plt.figure(figsize=(10, 10), dpi= 80, facecolor='w', edgecolor='k')\n",
    "# We have to invert the x and y axis , go over to numpy array instead\n",
    "plt.imshow(np.swapaxes(np.array(plot_grid),0,1))\n",
    "#plt.axis('on')\n",
    "plt.gca().invert_yaxis()\n",
    "plt.xticks(np.arange(0, size_grid_x, dtype=int))\n",
    "plt.yticks(np.arange(0, size_grid_y, dtype=int))\n",
    "plt.show()"
   ]
  }
 ],
 "metadata": {
  "kernelspec": {
   "display_name": "Python 3 (ipykernel)",
   "language": "python",
   "name": "python3"
  },
  "language_info": {
   "codemirror_mode": {
    "name": "ipython",
    "version": 3
   },
   "file_extension": ".py",
   "mimetype": "text/x-python",
   "name": "python",
   "nbconvert_exporter": "python",
   "pygments_lexer": "ipython3",
   "version": "3.9.13"
  }
 },
 "nbformat": 4,
 "nbformat_minor": 2
}
